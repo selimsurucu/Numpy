{
  "nbformat": 4,
  "nbformat_minor": 0,
  "metadata": {
    "colab": {
      "name": "numpyBasicMat.ipynb",
      "version": "0.3.2",
      "provenance": [],
      "collapsed_sections": [],
      "include_colab_link": true
    },
    "kernelspec": {
      "name": "python3",
      "display_name": "Python 3"
    }
  },
  "cells": [
    {
      "cell_type": "markdown",
      "metadata": {
        "id": "view-in-github",
        "colab_type": "text"
      },
      "source": [
        "<a href=\"https://colab.research.google.com/github/selimsurucu/numpy/blob/master/numpyBasicMat.ipynb\" target=\"_parent\"><img src=\"https://colab.research.google.com/assets/colab-badge.svg\" alt=\"Open In Colab\"/></a>"
      ]
    },
    {
      "metadata": {
        "id": "hmfKz3r7iURc",
        "colab_type": "code",
        "colab": {}
      },
      "cell_type": "code",
      "source": [
        "import numpy as np"
      ],
      "execution_count": 0,
      "outputs": []
    },
    {
      "metadata": {
        "id": "xdu0vVuvmGzH",
        "colab_type": "text"
      },
      "cell_type": "markdown",
      "source": [
        "Diziyi random elemanlarla oluşturma"
      ]
    },
    {
      "metadata": {
        "id": "20tfeZk1mLqw",
        "colab_type": "code",
        "colab": {
          "base_uri": "https://localhost:8080/",
          "height": 68
        },
        "outputId": "929ccdf5-0fdc-43d4-fb75-215033b934e9"
      },
      "cell_type": "code",
      "source": [
        "randomDizi = np.random.random((3,3)) # 0 ile 1 arasında random deger üretir.\n",
        "print(randomDizi)"
      ],
      "execution_count": 15,
      "outputs": [
        {
          "output_type": "stream",
          "text": [
            "[[0.73702496 0.01191754 0.08025605]\n",
            " [0.94230462 0.55123978 0.72613965]\n",
            " [0.78115571 0.62914104 0.26154172]]\n"
          ],
          "name": "stdout"
        }
      ]
    },
    {
      "metadata": {
        "id": "kH0aJDsNmcWC",
        "colab_type": "text"
      },
      "cell_type": "markdown",
      "source": [
        "Array'in tüm elemanlarını toplamak"
      ]
    },
    {
      "metadata": {
        "id": "yOXW-n0vmYuH",
        "colab_type": "code",
        "colab": {
          "base_uri": "https://localhost:8080/",
          "height": 34
        },
        "outputId": "aa0c1188-1cc7-43c1-bbc1-853435fd82d1"
      },
      "cell_type": "code",
      "source": [
        "print(randomDizi.sum())"
      ],
      "execution_count": 16,
      "outputs": [
        {
          "output_type": "stream",
          "text": [
            "4.720721058220735\n"
          ],
          "name": "stdout"
        }
      ]
    },
    {
      "metadata": {
        "id": "kVHRiwBinnbQ",
        "colab_type": "text"
      },
      "cell_type": "markdown",
      "source": [
        "Array'de ki sütun sütun toplamak"
      ]
    },
    {
      "metadata": {
        "id": "BXImWUU8nwkJ",
        "colab_type": "code",
        "colab": {
          "base_uri": "https://localhost:8080/",
          "height": 34
        },
        "outputId": "6a5683ed-8dc7-4e5a-b9a7-d4ea980164fa"
      },
      "cell_type": "code",
      "source": [
        "print(randomDizi.sum(axis=0))"
      ],
      "execution_count": 19,
      "outputs": [
        {
          "output_type": "stream",
          "text": [
            "[2.46048529 1.19229835 1.06793742]\n"
          ],
          "name": "stdout"
        }
      ]
    },
    {
      "metadata": {
        "id": "BW6OZ5PyoKZe",
        "colab_type": "text"
      },
      "cell_type": "markdown",
      "source": [
        "Array'i satır satır toplamak"
      ]
    },
    {
      "metadata": {
        "id": "CTFD5suEoRv9",
        "colab_type": "code",
        "colab": {
          "base_uri": "https://localhost:8080/",
          "height": 34
        },
        "outputId": "10f637d7-bd8e-4ab4-e896-e5fcf9dc7ada"
      },
      "cell_type": "code",
      "source": [
        "print(randomDizi.sum(axis = 1))"
      ],
      "execution_count": 20,
      "outputs": [
        {
          "output_type": "stream",
          "text": [
            "[0.82919854 2.21968405 1.67183847]\n"
          ],
          "name": "stdout"
        }
      ]
    },
    {
      "metadata": {
        "id": "bBxMQ5HymrtF",
        "colab_type": "text"
      },
      "cell_type": "markdown",
      "source": [
        "Bir Array'de ki max değerine ulaşmak"
      ]
    },
    {
      "metadata": {
        "id": "qidLu2lUmvsa",
        "colab_type": "code",
        "colab": {
          "base_uri": "https://localhost:8080/",
          "height": 34
        },
        "outputId": "bb07fd24-4aa9-4916-e6ed-d91b538654ef"
      },
      "cell_type": "code",
      "source": [
        "print(randomDizi.max())"
      ],
      "execution_count": 17,
      "outputs": [
        {
          "output_type": "stream",
          "text": [
            "0.9423046229195596\n"
          ],
          "name": "stdout"
        }
      ]
    },
    {
      "metadata": {
        "id": "O8ojXfQXmzrg",
        "colab_type": "text"
      },
      "cell_type": "markdown",
      "source": [
        "Bir Array'de ki min değerine ulaşmak"
      ]
    },
    {
      "metadata": {
        "id": "riIY4Jyfm2eb",
        "colab_type": "code",
        "colab": {
          "base_uri": "https://localhost:8080/",
          "height": 34
        },
        "outputId": "f73d26d1-f015-419f-f20f-07c5ac4a46a1"
      },
      "cell_type": "code",
      "source": [
        "print(randomDizi.min())"
      ],
      "execution_count": 18,
      "outputs": [
        {
          "output_type": "stream",
          "text": [
            "0.0119175359788114\n"
          ],
          "name": "stdout"
        }
      ]
    },
    {
      "metadata": {
        "id": "LwaZPx4CiO9R",
        "colab_type": "text"
      },
      "cell_type": "markdown",
      "source": [
        "Dizi Oluşturma (İşlemler için) işlemler yapılacağı için boyutu aynı olmalıdır."
      ]
    },
    {
      "metadata": {
        "id": "K1apGuKth6eq",
        "colab_type": "code",
        "colab": {
          "base_uri": "https://localhost:8080/",
          "height": 51
        },
        "outputId": "cb8fce29-d8ed-495c-a463-40b3baf658db"
      },
      "cell_type": "code",
      "source": [
        "a = np.array([5,6,7,8])\n",
        "b = np.array([1,2,3,4])\n",
        "print(a)\n",
        "print(b)"
      ],
      "execution_count": 3,
      "outputs": [
        {
          "output_type": "stream",
          "text": [
            "[5 6 7 8]\n",
            "[1 2 3 4]\n"
          ],
          "name": "stdout"
        }
      ]
    },
    {
      "metadata": {
        "id": "lRDgazhgik9k",
        "colab_type": "text"
      },
      "cell_type": "markdown",
      "source": [
        "2 diziyi toplama"
      ]
    },
    {
      "metadata": {
        "id": "eOBQIj3WimQi",
        "colab_type": "code",
        "colab": {
          "base_uri": "https://localhost:8080/",
          "height": 34
        },
        "outputId": "ec26c45a-e948-4712-b512-7fee5c96747c"
      },
      "cell_type": "code",
      "source": [
        "toplam = a+b\n",
        "print(toplam)"
      ],
      "execution_count": 4,
      "outputs": [
        {
          "output_type": "stream",
          "text": [
            "[ 6  8 10 12]\n"
          ],
          "name": "stdout"
        }
      ]
    },
    {
      "metadata": {
        "id": "SUtySySfpqZm",
        "colab_type": "text"
      },
      "cell_type": "markdown",
      "source": [
        "Toplama işleminin numpy'de fonksiyonlu kullanımı"
      ]
    },
    {
      "metadata": {
        "id": "jk6_2_mGpt7q",
        "colab_type": "code",
        "colab": {
          "base_uri": "https://localhost:8080/",
          "height": 34
        },
        "outputId": "a03d3fdd-0058-4ab5-e4a9-7675cde513df"
      },
      "cell_type": "code",
      "source": [
        "np.add(a,b)"
      ],
      "execution_count": 23,
      "outputs": [
        {
          "output_type": "execute_result",
          "data": {
            "text/plain": [
              "array([ 6,  8, 10, 12])"
            ]
          },
          "metadata": {
            "tags": []
          },
          "execution_count": 23
        }
      ]
    },
    {
      "metadata": {
        "id": "zU92raVhitWS",
        "colab_type": "text"
      },
      "cell_type": "markdown",
      "source": [
        "2 dizide çıkarma yapma"
      ]
    },
    {
      "metadata": {
        "id": "VjLSBtrNivnb",
        "colab_type": "code",
        "colab": {
          "base_uri": "https://localhost:8080/",
          "height": 34
        },
        "outputId": "51778ab4-215a-45f4-958b-7417fb6a4fd6"
      },
      "cell_type": "code",
      "source": [
        "cikarma = a - b\n",
        "print(cikarma)"
      ],
      "execution_count": 25,
      "outputs": [
        {
          "output_type": "stream",
          "text": [
            "[4 4 4 4]\n"
          ],
          "name": "stdout"
        }
      ]
    },
    {
      "metadata": {
        "id": "n2PCep4dizyi",
        "colab_type": "text"
      },
      "cell_type": "markdown",
      "source": [
        "2 arrayı bölme"
      ]
    },
    {
      "metadata": {
        "id": "7IauvcUOi6R7",
        "colab_type": "code",
        "colab": {
          "base_uri": "https://localhost:8080/",
          "height": 34
        },
        "outputId": "3370612d-9036-4030-a6ef-e490e90233e6"
      },
      "cell_type": "code",
      "source": [
        "bolme = a/ b\n",
        "print(bolme)"
      ],
      "execution_count": 6,
      "outputs": [
        {
          "output_type": "stream",
          "text": [
            "[5.         3.         2.33333333 2.        ]\n"
          ],
          "name": "stdout"
        }
      ]
    },
    {
      "metadata": {
        "id": "O0AHNQExjAqL",
        "colab_type": "text"
      },
      "cell_type": "markdown",
      "source": [
        "dizi elemanlarının karesinin alınması"
      ]
    },
    {
      "metadata": {
        "id": "MBweGp2pjDWT",
        "colab_type": "code",
        "colab": {
          "base_uri": "https://localhost:8080/",
          "height": 51
        },
        "outputId": "4f119a6b-0243-4af4-e525-873fd62e30c4"
      },
      "cell_type": "code",
      "source": [
        "aKare = a**2\n",
        "bKare = b**2\n",
        "print(aKare)\n",
        "print(bKare)"
      ],
      "execution_count": 8,
      "outputs": [
        {
          "output_type": "stream",
          "text": [
            "[25 36 49 64]\n",
            "[ 1  4  9 16]\n"
          ],
          "name": "stdout"
        }
      ]
    },
    {
      "metadata": {
        "id": "ZkD8dgPPowpn",
        "colab_type": "text"
      },
      "cell_type": "markdown",
      "source": [
        "Üssel ifade almanın(**) ifade yerine numpy'de yer alan fonk "
      ]
    },
    {
      "metadata": {
        "id": "kfD5Jskzo_j8",
        "colab_type": "code",
        "colab": {
          "base_uri": "https://localhost:8080/",
          "height": 51
        },
        "outputId": "24d0143e-f96a-42d4-b6cc-81ce363d3590"
      },
      "cell_type": "code",
      "source": [
        "print(np.square(a))\n",
        "print(np.square(b))"
      ],
      "execution_count": 22,
      "outputs": [
        {
          "output_type": "stream",
          "text": [
            "[25 36 49 64]\n",
            "[ 1  4  9 16]\n"
          ],
          "name": "stdout"
        }
      ]
    },
    {
      "metadata": {
        "id": "efkZEwmpje3T",
        "colab_type": "text"
      },
      "cell_type": "markdown",
      "source": [
        "Bir dizideki elemanlar üzerinde karşılaştırma"
      ]
    },
    {
      "metadata": {
        "id": "IWO-tdsFjihO",
        "colab_type": "code",
        "colab": {
          "base_uri": "https://localhost:8080/",
          "height": 34
        },
        "outputId": "60901f07-3544-4e89-9445-b0cb432ab28f"
      },
      "cell_type": "code",
      "source": [
        "aDurum = a<6\n",
        "print(aDurum)"
      ],
      "execution_count": 9,
      "outputs": [
        {
          "output_type": "stream",
          "text": [
            "[ True False False False]\n"
          ],
          "name": "stdout"
        }
      ]
    },
    {
      "metadata": {
        "id": "5x14eSalkR0s",
        "colab_type": "text"
      },
      "cell_type": "markdown",
      "source": [
        "Eleman elamana çarpım işlemi (a'nin 1 i elemanını B'nin 1. elemanıyla çarpma) (Dikkat : Matris çarpımı değil)"
      ]
    },
    {
      "metadata": {
        "id": "sx7qwupxkbXD",
        "colab_type": "code",
        "colab": {
          "base_uri": "https://localhost:8080/",
          "height": 34
        },
        "outputId": "f3e5c10a-b1db-4e3d-85f2-75b4bfdd5b63"
      },
      "cell_type": "code",
      "source": [
        "carpma = a*b\n",
        "print(carpma)"
      ],
      "execution_count": 10,
      "outputs": [
        {
          "output_type": "stream",
          "text": [
            "[ 5 12 21 32]\n"
          ],
          "name": "stdout"
        }
      ]
    },
    {
      "metadata": {
        "id": "ghrPiJSfkozu",
        "colab_type": "text"
      },
      "cell_type": "markdown",
      "source": [
        "bir Matrisin transformu alma = Transform => 2*3'lük bir matris 3*2 lik bir matris olur."
      ]
    },
    {
      "metadata": {
        "id": "EhoYgHwfkyYj",
        "colab_type": "code",
        "colab": {
          "base_uri": "https://localhost:8080/",
          "height": 102
        },
        "outputId": "456b5415-65b2-4dda-a965-acbe72893e83"
      },
      "cell_type": "code",
      "source": [
        "c = np.array([[2,3,5],[3,5,2]])\n",
        "print(c)\n",
        "cT = c.T\n",
        "print(cT)"
      ],
      "execution_count": 12,
      "outputs": [
        {
          "output_type": "stream",
          "text": [
            "[[2 3 5]\n",
            " [3 5 2]]\n",
            "[[2 3]\n",
            " [3 5]\n",
            " [5 2]]\n"
          ],
          "name": "stdout"
        }
      ]
    },
    {
      "metadata": {
        "id": "N2MNXil_lH8O",
        "colab_type": "text"
      },
      "cell_type": "markdown",
      "source": [
        "Matris Çarpımı => matris çarpımı yapabilmek için; 2*3'lük bir matris için 3*2'lik bir matris ile çarpılabilir."
      ]
    },
    {
      "metadata": {
        "id": "wKbywvX4lUUN",
        "colab_type": "code",
        "colab": {
          "base_uri": "https://localhost:8080/",
          "height": 51
        },
        "outputId": "b238a9b8-ee56-460b-af23-1364e602597f"
      },
      "cell_type": "code",
      "source": [
        "matrisCarpim = c.dot(cT)\n",
        "print(matrisCarpim)"
      ],
      "execution_count": 13,
      "outputs": [
        {
          "output_type": "stream",
          "text": [
            "[[38 31]\n",
            " [31 38]]\n"
          ],
          "name": "stdout"
        }
      ]
    },
    {
      "metadata": {
        "id": "KDUaHLgKojSy",
        "colab_type": "text"
      },
      "cell_type": "markdown",
      "source": [
        "Bir array'in karekökünü alma "
      ]
    },
    {
      "metadata": {
        "id": "tWY51v2oorAK",
        "colab_type": "code",
        "colab": {
          "base_uri": "https://localhost:8080/",
          "height": 51
        },
        "outputId": "ecf0050e-c2e5-4191-9447-a3635ca01f7f"
      },
      "cell_type": "code",
      "source": [
        "print(np.sqrt(c))"
      ],
      "execution_count": 21,
      "outputs": [
        {
          "output_type": "stream",
          "text": [
            "[[1.41421356 1.73205081 2.23606798]\n",
            " [1.73205081 2.23606798 1.41421356]]\n"
          ],
          "name": "stdout"
        }
      ]
    }
  ]
}