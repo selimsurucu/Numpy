{
  "nbformat": 4,
  "nbformat_minor": 0,
  "metadata": {
    "colab": {
      "name": "NumpyArray.ipynb",
      "version": "0.3.2",
      "provenance": [],
      "include_colab_link": true
    },
    "kernelspec": {
      "name": "python3",
      "display_name": "Python 3"
    }
  },
  "cells": [
    {
      "cell_type": "markdown",
      "metadata": {
        "id": "view-in-github",
        "colab_type": "text"
      },
      "source": [
        "<a href=\"https://colab.research.google.com/github/selimsurucu/numpy/blob/master/NumpyArray.ipynb\" target=\"_parent\"><img src=\"https://colab.research.google.com/assets/colab-badge.svg\" alt=\"Open In Colab\"/></a>"
      ]
    },
    {
      "metadata": {
        "id": "c5BvjVBANS6E",
        "colab_type": "text"
      },
      "cell_type": "markdown",
      "source": [
        "Numpy kütüphanesini import ediyoruz."
      ]
    },
    {
      "metadata": {
        "id": "7tODEtdCNRk-",
        "colab_type": "code",
        "colab": {}
      },
      "cell_type": "code",
      "source": [
        "import numpy as np"
      ],
      "execution_count": 0,
      "outputs": []
    },
    {
      "metadata": {
        "id": "iuXzD1lkOLE8",
        "colab_type": "text"
      },
      "cell_type": "markdown",
      "source": [
        "Yeni bir array(dizi) tanımlayayım"
      ]
    },
    {
      "metadata": {
        "id": "ndEaz3qoOQNJ",
        "colab_type": "code",
        "colab": {}
      },
      "cell_type": "code",
      "source": [
        "myArray = np.array([1,2,3,4,5,6,7,8,9,10]) #tek boyutludur."
      ],
      "execution_count": 0,
      "outputs": []
    },
    {
      "metadata": {
        "id": "KYzoFs8gOcyF",
        "colab_type": "text"
      },
      "cell_type": "markdown",
      "source": [
        "Diziler(Array) 0'dan saymaya başlar. Elemanlar buna göre ekrana yazdırılır."
      ]
    },
    {
      "metadata": {
        "id": "wmlVqm4-OrHA",
        "colab_type": "text"
      },
      "cell_type": "markdown",
      "source": [
        "ilk elemanı yazdırmak"
      ]
    },
    {
      "metadata": {
        "id": "dFhhqLBAOvNj",
        "colab_type": "code",
        "outputId": "abf198d6-5b89-4c26-b191-fda7960e6142",
        "colab": {
          "base_uri": "https://localhost:8080/",
          "height": 34
        }
      },
      "cell_type": "code",
      "source": [
        "print(myArray[0])"
      ],
      "execution_count": 0,
      "outputs": [
        {
          "output_type": "stream",
          "text": [
            "1\n"
          ],
          "name": "stdout"
        }
      ]
    },
    {
      "metadata": {
        "id": "sObllELUO1Zt",
        "colab_type": "text"
      },
      "cell_type": "markdown",
      "source": [
        "Dizinin boyutunu öğrenmek :"
      ]
    },
    {
      "metadata": {
        "id": "W2jgrWymO78U",
        "colab_type": "code",
        "outputId": "119211be-dd22-4537-8ef8-e018a1290d2c",
        "colab": {
          "base_uri": "https://localhost:8080/",
          "height": 34
        }
      },
      "cell_type": "code",
      "source": [
        "print(myArray.size)"
      ],
      "execution_count": 0,
      "outputs": [
        {
          "output_type": "stream",
          "text": [
            "10\n"
          ],
          "name": "stdout"
        }
      ]
    },
    {
      "metadata": {
        "id": "PD7PlzozPAOS",
        "colab_type": "text"
      },
      "cell_type": "markdown",
      "source": [
        "Dizinin son elemanını yazdırmak"
      ]
    },
    {
      "metadata": {
        "id": "zr9drKcdPCg7",
        "colab_type": "code",
        "outputId": "9578b282-6b9f-417a-fec6-0f0d1407d91f",
        "colab": {
          "base_uri": "https://localhost:8080/",
          "height": 34
        }
      },
      "cell_type": "code",
      "source": [
        "print(myArray[myArray.size - 1] ) #0 dan başladığı için 1 çıkardık."
      ],
      "execution_count": 0,
      "outputs": [
        {
          "output_type": "stream",
          "text": [
            "10\n"
          ],
          "name": "stdout"
        }
      ]
    },
    {
      "metadata": {
        "id": "H0QBE41iPmBQ",
        "colab_type": "text"
      },
      "cell_type": "markdown",
      "source": [
        "Dizinin ilk dört elemanına ulaşmak."
      ]
    },
    {
      "metadata": {
        "id": "6MGSpdQNPpXO",
        "colab_type": "code",
        "outputId": "d1b5b0c9-f784-4e6e-8746-4c48ec463aa4",
        "colab": {
          "base_uri": "https://localhost:8080/",
          "height": 34
        }
      },
      "cell_type": "code",
      "source": [
        "print(myArray[:4]) #Her zaman ilk parametre dahil, 2. parametre dahil değildir. ilk parametre verilmemişse bu sıfırdır. ikinci parametre verilmemişse dizinin sonundaki elemanın index'i olur."
      ],
      "execution_count": 0,
      "outputs": [
        {
          "output_type": "stream",
          "text": [
            "[1 2 3 4]\n"
          ],
          "name": "stdout"
        }
      ]
    },
    {
      "metadata": {
        "id": "H8iafh1GPR35",
        "colab_type": "text"
      },
      "cell_type": "markdown",
      "source": [
        "Bir dizideki elemanları 1er eleman atlayarak yazdıralım. (Yani 0.-2. -4. ... indexlerdeki elemanları yazdılarım.)"
      ]
    },
    {
      "metadata": {
        "id": "OzoxlFGTPfN6",
        "colab_type": "code",
        "outputId": "fd340f67-a0e2-408c-b5af-a5154fd890da",
        "colab": {
          "base_uri": "https://localhost:8080/",
          "height": 34
        }
      },
      "cell_type": "code",
      "source": [
        "print(myArray[::2])"
      ],
      "execution_count": 0,
      "outputs": [
        {
          "output_type": "stream",
          "text": [
            "[1 3 5 7 9]\n"
          ],
          "name": "stdout"
        }
      ]
    },
    {
      "metadata": {
        "id": "6cy3f_7eQFKw",
        "colab_type": "text"
      },
      "cell_type": "markdown",
      "source": [
        "Diziyi tersten yazdırmak"
      ]
    },
    {
      "metadata": {
        "id": "OtyyTWs5QHML",
        "colab_type": "code",
        "outputId": "2cc93bd1-88de-46d4-c789-52010c3a5094",
        "colab": {
          "base_uri": "https://localhost:8080/",
          "height": 34
        }
      },
      "cell_type": "code",
      "source": [
        "print(myArray[::-1])"
      ],
      "execution_count": 0,
      "outputs": [
        {
          "output_type": "stream",
          "text": [
            "[10  9  8  7  6  5  4  3  2  1]\n"
          ],
          "name": "stdout"
        }
      ]
    },
    {
      "metadata": {
        "id": "rgzIvm2XRFWB",
        "colab_type": "text"
      },
      "cell_type": "markdown",
      "source": [
        "2 boyutlu dizi tanımlama"
      ]
    },
    {
      "metadata": {
        "id": "wDUPC6-WRJXH",
        "colab_type": "code",
        "outputId": "d73aa139-91bc-470b-dd97-3e3d167c01e1",
        "colab": {
          "base_uri": "https://localhost:8080/",
          "height": 51
        }
      },
      "cell_type": "code",
      "source": [
        "myNewArray = np.array([[1,2,3,4,5],[6,7,8,9,10]])\n",
        "myNewArray"
      ],
      "execution_count": 3,
      "outputs": [
        {
          "output_type": "execute_result",
          "data": {
            "text/plain": [
              "array([[ 1,  2,  3,  4,  5],\n",
              "       [ 6,  7,  8,  9, 10]])"
            ]
          },
          "metadata": {
            "tags": []
          },
          "execution_count": 3
        }
      ]
    },
    {
      "metadata": {
        "id": "TpF6dCCFReBS",
        "colab_type": "text"
      },
      "cell_type": "markdown",
      "source": [
        "2 boyutlu bir dizide elemana ulaşmak"
      ]
    },
    {
      "metadata": {
        "id": "bwXaKOZZRiNS",
        "colab_type": "code",
        "outputId": "f6db5a7b-cc6d-43c3-fd8f-e5ec04a4eb55",
        "colab": {
          "base_uri": "https://localhost:8080/",
          "height": 34
        }
      },
      "cell_type": "code",
      "source": [
        "print(myNewArray[1,4]) # ilk parametre satırın index'i (1) , ikinci parametre ise sütunun index'idir(4); "
      ],
      "execution_count": 0,
      "outputs": [
        {
          "output_type": "stream",
          "text": [
            "10\n"
          ],
          "name": "stdout"
        }
      ]
    },
    {
      "metadata": {
        "id": "XOyemo60SM3t",
        "colab_type": "text"
      },
      "cell_type": "markdown",
      "source": [
        "Bir sütundaki tum elemanlara ulaşmak"
      ]
    },
    {
      "metadata": {
        "id": "g7zSlmx3ST07",
        "colab_type": "code",
        "outputId": "d6bfb1c1-15ab-4d25-d7fe-1bd6947cac31",
        "colab": {
          "base_uri": "https://localhost:8080/",
          "height": 34
        }
      },
      "cell_type": "code",
      "source": [
        "print(myNewArray[:,3]) #tek boyutlu bir dizi döner. ilk parametredeki : => tamamı demektir."
      ],
      "execution_count": 0,
      "outputs": [
        {
          "output_type": "stream",
          "text": [
            "[4 9]\n"
          ],
          "name": "stdout"
        }
      ]
    },
    {
      "metadata": {
        "id": "tfoegU13TNCm",
        "colab_type": "text"
      },
      "cell_type": "markdown",
      "source": [
        "Bir satırdaki elemanlardan belirli sütundaki elemanları yazdırmak"
      ]
    },
    {
      "metadata": {
        "id": "7LG1GfUhThPZ",
        "colab_type": "code",
        "outputId": "b1372da4-bc2c-4868-a03b-1d14abb31838",
        "colab": {
          "base_uri": "https://localhost:8080/",
          "height": 34
        }
      },
      "cell_type": "code",
      "source": [
        "print(myNewArray[1,0:3]) # ilk parametre satırın index'idir. ikinci parametrede sütunun indexleridir. 1 no'lu index'in, 0. sütunundan (0.sütun dahil) 3.sütununa(3.sütun dahil değil) kadar elemanları yazdıralım."
      ],
      "execution_count": 0,
      "outputs": [
        {
          "output_type": "stream",
          "text": [
            "[6 7 8]\n"
          ],
          "name": "stdout"
        }
      ]
    },
    {
      "metadata": {
        "id": "yDM9V-wyUdmT",
        "colab_type": "text"
      },
      "cell_type": "markdown",
      "source": [
        "İlk satıra ulaşmak:"
      ]
    },
    {
      "metadata": {
        "id": "pL6_ENV-Ufk3",
        "colab_type": "code",
        "outputId": "f01ffbbb-bb28-4647-a13f-73128b415453",
        "colab": {
          "base_uri": "https://localhost:8080/",
          "height": 34
        }
      },
      "cell_type": "code",
      "source": [
        "myNewArray[0,:]"
      ],
      "execution_count": 0,
      "outputs": [
        {
          "output_type": "execute_result",
          "data": {
            "text/plain": [
              "array([1, 2, 3, 4, 5])"
            ]
          },
          "metadata": {
            "tags": []
          },
          "execution_count": 22
        }
      ]
    },
    {
      "metadata": {
        "id": "dInp1_5lUn2F",
        "colab_type": "text"
      },
      "cell_type": "markdown",
      "source": [
        "İlk Sütuna ulaşmak"
      ]
    },
    {
      "metadata": {
        "id": "3wOsglhXUsam",
        "colab_type": "code",
        "outputId": "0443d8e7-9d87-4d03-b7dc-6275b2b575d3",
        "colab": {
          "base_uri": "https://localhost:8080/",
          "height": 34
        }
      },
      "cell_type": "code",
      "source": [
        "myNewArray[:,0]"
      ],
      "execution_count": 0,
      "outputs": [
        {
          "output_type": "execute_result",
          "data": {
            "text/plain": [
              "array([1, 6])"
            ]
          },
          "metadata": {
            "tags": []
          },
          "execution_count": 23
        }
      ]
    },
    {
      "metadata": {
        "id": "Se1AdDIeUwxX",
        "colab_type": "text"
      },
      "cell_type": "markdown",
      "source": [
        "Son satıra ulaşmak"
      ]
    },
    {
      "metadata": {
        "id": "PuVlRWtXUy6H",
        "colab_type": "code",
        "outputId": "bb177084-e190-40cc-9398-dfc3203eebe6",
        "colab": {
          "base_uri": "https://localhost:8080/",
          "height": 34
        }
      },
      "cell_type": "code",
      "source": [
        "myNewArray[-1,:] #-1 bizim son index'imizdir."
      ],
      "execution_count": 0,
      "outputs": [
        {
          "output_type": "execute_result",
          "data": {
            "text/plain": [
              "array([ 6,  7,  8,  9, 10])"
            ]
          },
          "metadata": {
            "tags": []
          },
          "execution_count": 25
        }
      ]
    },
    {
      "metadata": {
        "id": "2_gDC7KnVAiX",
        "colab_type": "text"
      },
      "cell_type": "markdown",
      "source": [
        "Son Sütuna ulaşmak"
      ]
    },
    {
      "metadata": {
        "id": "8K2mq0czU_nN",
        "colab_type": "code",
        "outputId": "d4cfbf02-7e0d-4fa4-e593-1810b33ac893",
        "colab": {
          "base_uri": "https://localhost:8080/",
          "height": 34
        }
      },
      "cell_type": "code",
      "source": [
        "myNewArray[:,-1]"
      ],
      "execution_count": 0,
      "outputs": [
        {
          "output_type": "execute_result",
          "data": {
            "text/plain": [
              "array([ 5, 10])"
            ]
          },
          "metadata": {
            "tags": []
          },
          "execution_count": 27
        }
      ]
    },
    {
      "metadata": {
        "id": "N6a500-I7y_S",
        "colab_type": "text"
      },
      "cell_type": "markdown",
      "source": [
        "2  ya da daha fazla uzunluktaki matrisi tek boyutlu matrise çevirme"
      ]
    },
    {
      "metadata": {
        "id": "M39R8Goh756d",
        "colab_type": "code",
        "colab": {
          "base_uri": "https://localhost:8080/",
          "height": 34
        },
        "outputId": "9c8c39ed-e014-4b13-e93e-8e0ff6e3a7ec"
      },
      "cell_type": "code",
      "source": [
        "myNewArray1 = myNewArray.ravel()\n",
        "myNewArray1"
      ],
      "execution_count": 6,
      "outputs": [
        {
          "output_type": "execute_result",
          "data": {
            "text/plain": [
              "array([ 1,  2,  3,  4,  5,  6,  7,  8,  9, 10])"
            ]
          },
          "metadata": {
            "tags": []
          },
          "execution_count": 6
        }
      ]
    },
    {
      "metadata": {
        "id": "r6nyIK2l8J5o",
        "colab_type": "text"
      },
      "cell_type": "markdown",
      "source": [
        "diziyi yeniden boyutlandırma : 2 x 5 => 5 x 2"
      ]
    },
    {
      "metadata": {
        "id": "-5IJL8mY8USm",
        "colab_type": "code",
        "colab": {
          "base_uri": "https://localhost:8080/",
          "height": 102
        },
        "outputId": "30c530af-d373-49eb-a81c-fd136d0595aa"
      },
      "cell_type": "code",
      "source": [
        "myNewArray2=myNewArray.reshape(5,2)\n",
        "myNewArray2"
      ],
      "execution_count": 8,
      "outputs": [
        {
          "output_type": "execute_result",
          "data": {
            "text/plain": [
              "array([[ 1,  2],\n",
              "       [ 3,  4],\n",
              "       [ 5,  6],\n",
              "       [ 7,  8],\n",
              "       [ 9, 10]])"
            ]
          },
          "metadata": {
            "tags": []
          },
          "execution_count": 8
        }
      ]
    },
    {
      "metadata": {
        "id": "rTkH65N58iPT",
        "colab_type": "text"
      },
      "cell_type": "markdown",
      "source": [
        "reshape fonksiyonu orj. diziyi bozmaz.!"
      ]
    },
    {
      "metadata": {
        "id": "KB53xDd98m6r",
        "colab_type": "code",
        "colab": {
          "base_uri": "https://localhost:8080/",
          "height": 51
        },
        "outputId": "7c022060-df8b-4416-ad47-4aec1a5d1da6"
      },
      "cell_type": "code",
      "source": [
        "myNewArray"
      ],
      "execution_count": 9,
      "outputs": [
        {
          "output_type": "execute_result",
          "data": {
            "text/plain": [
              "array([[ 1,  2,  3,  4,  5],\n",
              "       [ 6,  7,  8,  9, 10]])"
            ]
          },
          "metadata": {
            "tags": []
          },
          "execution_count": 9
        }
      ]
    },
    {
      "metadata": {
        "id": "P9tWuKh18p55",
        "colab_type": "text"
      },
      "cell_type": "markdown",
      "source": [
        "Orjinal dizinin de değişmesini istiyorsak **resize** fonksiyonu kullanılır."
      ]
    },
    {
      "metadata": {
        "id": "R9SIOcpX8w_0",
        "colab_type": "code",
        "colab": {
          "base_uri": "https://localhost:8080/",
          "height": 102
        },
        "outputId": "1683b132-66dd-4396-fc95-26ccef3389de"
      },
      "cell_type": "code",
      "source": [
        "myNewArray.resize(5,2)\n",
        "myNewArray # Dikkat edilirse reshape fonksiyonunda değişmiyordu. Ama resize fonksiyonunu çalıştırdığımızda dizimiz de değişti."
      ],
      "execution_count": 13,
      "outputs": [
        {
          "output_type": "execute_result",
          "data": {
            "text/plain": [
              "array([[ 1,  2],\n",
              "       [ 3,  4],\n",
              "       [ 5,  6],\n",
              "       [ 7,  8],\n",
              "       [ 9, 10]])"
            ]
          },
          "metadata": {
            "tags": []
          },
          "execution_count": 13
        }
      ]
    },
    {
      "metadata": {
        "id": "nosVIqsX_kQR",
        "colab_type": "text"
      },
      "cell_type": "markdown",
      "source": [
        "Dizileri birleştirme : \n",
        "Diziler iki şekilde birleştirilir.\n",
        "\n",
        "\n",
        "1.   Vertical (Dikey)\n",
        "2.   Horizontal (Yatay)\n",
        "\n"
      ]
    },
    {
      "metadata": {
        "id": "NReWldQ2__kd",
        "colab_type": "code",
        "colab": {
          "base_uri": "https://localhost:8080/",
          "height": 85
        },
        "outputId": "e9c2c9be-5186-427b-a7e8-0cebd715228e"
      },
      "cell_type": "code",
      "source": [
        "array1 = np.array([[1,2],[3,4]])\n",
        "array2 = np.array([[5,6],[7,8]])\n",
        "print(\"Array1\",array1)\n",
        "print(\"Array2\",array2)"
      ],
      "execution_count": 16,
      "outputs": [
        {
          "output_type": "stream",
          "text": [
            "Array1 [[1 2]\n",
            " [3 4]]\n",
            "Array2 [[5 6]\n",
            " [7 8]]\n"
          ],
          "name": "stdout"
        }
      ]
    },
    {
      "metadata": {
        "id": "dc-Ud3mb_70P",
        "colab_type": "text"
      },
      "cell_type": "markdown",
      "source": [
        "Vertical Birleştirme:"
      ]
    },
    {
      "metadata": {
        "id": "T9Qhmoef_9eb",
        "colab_type": "code",
        "colab": {
          "base_uri": "https://localhost:8080/",
          "height": 102
        },
        "outputId": "69db7e00-cba4-4778-e41d-35c15f4176f6"
      },
      "cell_type": "code",
      "source": [
        "arrayv = np.vstack((array1,array2))\n",
        "print(arrayv)\n",
        "print(\"Matris Boyutu\",arrayv.shape)"
      ],
      "execution_count": 23,
      "outputs": [
        {
          "output_type": "stream",
          "text": [
            "[[1 2]\n",
            " [3 4]\n",
            " [5 6]\n",
            " [7 8]]\n",
            "Matris Boyutu (4, 2)\n"
          ],
          "name": "stdout"
        }
      ]
    },
    {
      "metadata": {
        "id": "DjddYOr5BPEy",
        "colab_type": "text"
      },
      "cell_type": "markdown",
      "source": [
        "Horizontal Birleştirme"
      ]
    },
    {
      "metadata": {
        "id": "SNtcJpjCBSvO",
        "colab_type": "code",
        "colab": {
          "base_uri": "https://localhost:8080/",
          "height": 68
        },
        "outputId": "68115f14-0ccd-45c3-9899-aa2d20259cf8"
      },
      "cell_type": "code",
      "source": [
        "arrayh = np.hstack((array1,array2))\n",
        "print(arrayh)\n",
        "print(\"Matris Boyutu\",arrayh.shape)"
      ],
      "execution_count": 25,
      "outputs": [
        {
          "output_type": "stream",
          "text": [
            "[[1 2 5 6]\n",
            " [3 4 7 8]]\n",
            "Matris Boyutu (2, 4)\n"
          ],
          "name": "stdout"
        }
      ]
    },
    {
      "metadata": {
        "id": "x_JuMXTlWB0-",
        "colab_type": "text"
      },
      "cell_type": "markdown",
      "source": [
        "**Not 1 : **  *Print* yazmadan da değişkeni görebilirsiniz. Genelde *print* kullandım. Print komutuna aşinalık oluşması için genelde kullanmaya çalıştım. Ama *print* komutu kullanmadan da değişkeni görebildiğimizi görmeniz açınızdan bazı yerlerde *print* komutu kullanılmamıştır.\n",
        "\n",
        "**Not 2 : ** Diziler(Array) konusu ile ilgili en çok kullanılan fonksiyon yer almaktadır. Döküman güncellenmektedir. "
      ]
    }
  ]
}