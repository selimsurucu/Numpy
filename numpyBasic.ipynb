{
  "nbformat": 4,
  "nbformat_minor": 0,
  "metadata": {
    "colab": {
      "name": "numpyBasic.ipynb",
      "version": "0.3.2",
      "provenance": [],
      "collapsed_sections": [],
      "include_colab_link": true
    },
    "kernelspec": {
      "name": "python3",
      "display_name": "Python 3"
    }
  },
  "cells": [
    {
      "cell_type": "markdown",
      "metadata": {
        "id": "view-in-github",
        "colab_type": "text"
      },
      "source": [
        "<a href=\"https://colab.research.google.com/github/selimsurucu/numpy/blob/master/numpyBasic.ipynb\" target=\"_parent\"><img src=\"https://colab.research.google.com/assets/colab-badge.svg\" alt=\"Open In Colab\"/></a>"
      ]
    },
    {
      "metadata": {
        "id": "o9KCnu50PlZZ",
        "colab_type": "text"
      },
      "cell_type": "markdown",
      "source": [
        "Numpy kütüphanesinin set edilmesi"
      ]
    },
    {
      "metadata": {
        "id": "oWAnJnVUO8Bf",
        "colab_type": "code",
        "colab": {}
      },
      "cell_type": "code",
      "source": [
        "import numpy as np\n"
      ],
      "execution_count": 0,
      "outputs": []
    },
    {
      "metadata": {
        "id": "DLZrv2CMQW0H",
        "colab_type": "text"
      },
      "cell_type": "markdown",
      "source": [
        "Numpy'da array tanımlama"
      ]
    },
    {
      "metadata": {
        "id": "Oc8_PxpqQbOs",
        "colab_type": "code",
        "colab": {}
      },
      "cell_type": "code",
      "source": [
        "#1*4 lük bir array tanımı\n",
        "myArray=np.array([1,2,3,4]) "
      ],
      "execution_count": 0,
      "outputs": []
    },
    {
      "metadata": {
        "id": "9xMwR9QtQ4lt",
        "colab_type": "text"
      },
      "cell_type": "markdown",
      "source": [
        "Array'ın boyutunu öğrenme"
      ]
    },
    {
      "metadata": {
        "id": "wTc20XwtQ4N5",
        "colab_type": "code",
        "colab": {
          "base_uri": "https://localhost:8080/",
          "height": 34
        },
        "outputId": "e8516364-a0a8-47e9-ca40-1e22a4c7454f"
      },
      "cell_type": "code",
      "source": [
        "print(myArray.shape)"
      ],
      "execution_count": 9,
      "outputs": [
        {
          "output_type": "stream",
          "text": [
            "(4,)\n"
          ],
          "name": "stdout"
        }
      ]
    },
    {
      "metadata": {
        "id": "tXWCsxZURLZr",
        "colab_type": "text"
      },
      "cell_type": "markdown",
      "source": [
        "Array'i yeniden boyunlandırma"
      ]
    },
    {
      "metadata": {
        "id": "Gj_S2r2oRLH3",
        "colab_type": "code",
        "colab": {
          "base_uri": "https://localhost:8080/",
          "height": 51
        },
        "outputId": "28f4ba53-fe6d-4c97-e188-306b6f9a226a"
      },
      "cell_type": "code",
      "source": [
        "reMyArray = myArray.reshape(2,2)\n",
        "reMyArray"
      ],
      "execution_count": 11,
      "outputs": [
        {
          "output_type": "execute_result",
          "data": {
            "text/plain": [
              "array([[1, 2],\n",
              "       [3, 4]])"
            ]
          },
          "metadata": {
            "tags": []
          },
          "execution_count": 11
        }
      ]
    },
    {
      "metadata": {
        "id": "fapOTcQhR4uQ",
        "colab_type": "text"
      },
      "cell_type": "markdown",
      "source": [
        "Array'ın (Matrisin) dimension'ı bulma"
      ]
    },
    {
      "metadata": {
        "id": "-GBs4gs0SA5I",
        "colab_type": "code",
        "colab": {
          "base_uri": "https://localhost:8080/",
          "height": 34
        },
        "outputId": "45cfc06e-c9e8-4989-8d0a-98f6924c62de"
      },
      "cell_type": "code",
      "source": [
        "print(reMyArray.ndim)"
      ],
      "execution_count": 12,
      "outputs": [
        {
          "output_type": "stream",
          "text": [
            "2\n"
          ],
          "name": "stdout"
        }
      ]
    },
    {
      "metadata": {
        "id": "JRDI-MwbSHoa",
        "colab_type": "text"
      },
      "cell_type": "markdown",
      "source": [
        "Array'deki elemanların dataType "
      ]
    },
    {
      "metadata": {
        "id": "H5TCESFPSXyw",
        "colab_type": "code",
        "colab": {
          "base_uri": "https://localhost:8080/",
          "height": 34
        },
        "outputId": "fdf481c6-dda1-401c-c3af-c86d639f550c"
      },
      "cell_type": "code",
      "source": [
        "print(reMyArray.dtype.name)"
      ],
      "execution_count": 13,
      "outputs": [
        {
          "output_type": "stream",
          "text": [
            "int64\n"
          ],
          "name": "stdout"
        }
      ]
    },
    {
      "metadata": {
        "id": "nboz-Z7RSjqN",
        "colab_type": "text"
      },
      "cell_type": "markdown",
      "source": [
        "Array'în eleman sayısı"
      ]
    },
    {
      "metadata": {
        "id": "FYQYnVQvSlaL",
        "colab_type": "code",
        "colab": {
          "base_uri": "https://localhost:8080/",
          "height": 34
        },
        "outputId": "e0825f52-4a71-47f4-83ef-2a46bf1c6ccc"
      },
      "cell_type": "code",
      "source": [
        "print(reMyArray.size)"
      ],
      "execution_count": 14,
      "outputs": [
        {
          "output_type": "stream",
          "text": [
            "4\n"
          ],
          "name": "stdout"
        }
      ]
    },
    {
      "metadata": {
        "id": "HTWXCtzJS9Dq",
        "colab_type": "text"
      },
      "cell_type": "markdown",
      "source": [
        "2 boyutlu array tanımlama"
      ]
    },
    {
      "metadata": {
        "id": "6quMrXpeTBVv",
        "colab_type": "code",
        "colab": {
          "base_uri": "https://localhost:8080/",
          "height": 51
        },
        "outputId": "4e95fe21-9982-4d95-e1b3-f7b1364bef96"
      },
      "cell_type": "code",
      "source": [
        "myArray2 = np.array([ [1,2,3],[2,3,4] ])\n",
        "myArray2"
      ],
      "execution_count": 16,
      "outputs": [
        {
          "output_type": "execute_result",
          "data": {
            "text/plain": [
              "array([[1, 2, 3],\n",
              "       [2, 3, 4]])"
            ]
          },
          "metadata": {
            "tags": []
          },
          "execution_count": 16
        }
      ]
    },
    {
      "metadata": {
        "colab_type": "code",
        "outputId": "e33cbaa0-b560-47e7-95ef-785c412f40a7",
        "id": "W44R0J4pTwtg",
        "colab": {
          "base_uri": "https://localhost:8080/",
          "height": 34
        }
      },
      "cell_type": "code",
      "source": [
        "print(myArray2.shape)"
      ],
      "execution_count": 20,
      "outputs": [
        {
          "output_type": "stream",
          "text": [
            "(2, 3)\n"
          ],
          "name": "stdout"
        }
      ]
    },
    {
      "metadata": {
        "id": "eHg-lNNeTWOF",
        "colab_type": "text"
      },
      "cell_type": "markdown",
      "source": [
        "3 boyutlu Array tanımlama"
      ]
    },
    {
      "metadata": {
        "id": "UTuiIq5eTYRS",
        "colab_type": "code",
        "colab": {
          "base_uri": "https://localhost:8080/",
          "height": 68
        },
        "outputId": "2350750e-afbb-4508-b055-988890d2a6b1"
      },
      "cell_type": "code",
      "source": [
        "myArray3 = np.array([ [1,2,3],[4,5,6],[7,8,9]])\n",
        "myArray3"
      ],
      "execution_count": 18,
      "outputs": [
        {
          "output_type": "execute_result",
          "data": {
            "text/plain": [
              "array([[1, 2, 3],\n",
              "       [4, 5, 6],\n",
              "       [7, 8, 9]])"
            ]
          },
          "metadata": {
            "tags": []
          },
          "execution_count": 18
        }
      ]
    },
    {
      "metadata": {
        "id": "meXIXtHnToJT",
        "colab_type": "code",
        "colab": {
          "base_uri": "https://localhost:8080/",
          "height": 34
        },
        "outputId": "230257f7-6dec-4a2d-ca46-6284c1be4d21"
      },
      "cell_type": "code",
      "source": [
        "print(myArray3.shape)"
      ],
      "execution_count": 19,
      "outputs": [
        {
          "output_type": "stream",
          "text": [
            "(3, 3)\n"
          ],
          "name": "stdout"
        }
      ]
    },
    {
      "metadata": {
        "id": "yuNGzxNqUjWM",
        "colab_type": "text"
      },
      "cell_type": "markdown",
      "source": [
        "0 matrisi oluşturma . Genelde sistemden yer ayrılması için kullanılır."
      ]
    },
    {
      "metadata": {
        "id": "Duhn2nxYUl-i",
        "colab_type": "code",
        "colab": {
          "base_uri": "https://localhost:8080/",
          "height": 68
        },
        "outputId": "b58d6df0-d766-406b-eebd-29e8ae2985a2"
      },
      "cell_type": "code",
      "source": [
        "myZeros = np.zeros((3,3))\n",
        "myZeros"
      ],
      "execution_count": 21,
      "outputs": [
        {
          "output_type": "execute_result",
          "data": {
            "text/plain": [
              "array([[0., 0., 0.],\n",
              "       [0., 0., 0.],\n",
              "       [0., 0., 0.]])"
            ]
          },
          "metadata": {
            "tags": []
          },
          "execution_count": 21
        }
      ]
    },
    {
      "metadata": {
        "id": "vpsTCxfoU1Uo",
        "colab_type": "text"
      },
      "cell_type": "markdown",
      "source": [
        "Matris'e deger atama/ değeri güncelleme"
      ]
    },
    {
      "metadata": {
        "id": "ukOvFlbAVNwI",
        "colab_type": "code",
        "colab": {
          "base_uri": "https://localhost:8080/",
          "height": 68
        },
        "outputId": "6100eb97-0853-4f85-8e33-923e9200b587"
      },
      "cell_type": "code",
      "source": [
        "myZeros[0][2] = 11\n",
        "myZeros"
      ],
      "execution_count": 23,
      "outputs": [
        {
          "output_type": "execute_result",
          "data": {
            "text/plain": [
              "array([[ 0.,  0., 11.],\n",
              "       [ 0.,  0.,  0.],\n",
              "       [ 0.,  0.,  0.]])"
            ]
          },
          "metadata": {
            "tags": []
          },
          "execution_count": 23
        }
      ]
    },
    {
      "metadata": {
        "id": "_58wQ_NgVqRp",
        "colab_type": "text"
      },
      "cell_type": "markdown",
      "source": [
        "1 matrisi (Birim) matrisi oluşturma"
      ]
    },
    {
      "metadata": {
        "id": "dkR4TkQ4VwCP",
        "colab_type": "code",
        "colab": {
          "base_uri": "https://localhost:8080/",
          "height": 68
        },
        "outputId": "37968437-c490-4528-d777-6c6910d29f75"
      },
      "cell_type": "code",
      "source": [
        "myOnes = np.ones((3,3))\n",
        "myOnes"
      ],
      "execution_count": 25,
      "outputs": [
        {
          "output_type": "execute_result",
          "data": {
            "text/plain": [
              "array([[1., 1., 1.],\n",
              "       [1., 1., 1.],\n",
              "       [1., 1., 1.]])"
            ]
          },
          "metadata": {
            "tags": []
          },
          "execution_count": 25
        }
      ]
    },
    {
      "metadata": {
        "id": "A5fnnR-eV8qw",
        "colab_type": "text"
      },
      "cell_type": "markdown",
      "source": [
        "Matrisi datasız yani boş oluşturma"
      ]
    },
    {
      "metadata": {
        "id": "jtPzktzZV_L0",
        "colab_type": "code",
        "colab": {
          "base_uri": "https://localhost:8080/",
          "height": 34
        },
        "outputId": "bf783ec7-014f-4424-f7d9-a7daf25e0894"
      },
      "cell_type": "code",
      "source": [
        "myEmpty = np.empty((1,3))\n",
        "myEmpty"
      ],
      "execution_count": 28,
      "outputs": [
        {
          "output_type": "execute_result",
          "data": {
            "text/plain": [
              "array([[0.39215686, 0.70980392, 0.80392157]])"
            ]
          },
          "metadata": {
            "tags": []
          },
          "execution_count": 28
        }
      ]
    },
    {
      "metadata": {
        "id": "fbeHvXkZWizz",
        "colab_type": "text"
      },
      "cell_type": "markdown",
      "source": [
        "Belli bir aralıkta sayılar ile array oluşturma"
      ]
    },
    {
      "metadata": {
        "id": "Lb0vXKlzWnUu",
        "colab_type": "code",
        "colab": {
          "base_uri": "https://localhost:8080/",
          "height": 34
        },
        "outputId": "69f85863-bfd3-4c80-c6c8-46250d05a431"
      },
      "cell_type": "code",
      "source": [
        "myArange = np.arange(5,95,7) #ilk parametre dahil, 2 . parametre dahil değil , 3.parametre aralık. yani 1. ve 2.parametreler arasında ki sayıları 3.parametre artış miktarı olarak yazdırmak.\n",
        "myArange"
      ],
      "execution_count": 31,
      "outputs": [
        {
          "output_type": "execute_result",
          "data": {
            "text/plain": [
              "array([ 5, 12, 19, 26, 33, 40, 47, 54, 61, 68, 75, 82, 89])"
            ]
          },
          "metadata": {
            "tags": []
          },
          "execution_count": 31
        }
      ]
    },
    {
      "metadata": {
        "id": "Vg7jMqZpXT2Q",
        "colab_type": "text"
      },
      "cell_type": "markdown",
      "source": [
        "Belirli bir aralıkta, verilen sayı kadar değer öğretme"
      ]
    },
    {
      "metadata": {
        "id": "BXKnNLUcXY1l",
        "colab_type": "code",
        "colab": {
          "base_uri": "https://localhost:8080/",
          "height": 119
        },
        "outputId": "729db8b9-fd4e-435a-d0f3-5b50e8367561"
      },
      "cell_type": "code",
      "source": [
        "myLinspace = np.linspace(5,80,30)\n",
        "myLinspace"
      ],
      "execution_count": 33,
      "outputs": [
        {
          "output_type": "execute_result",
          "data": {
            "text/plain": [
              "array([ 5.        ,  7.5862069 , 10.17241379, 12.75862069, 15.34482759,\n",
              "       17.93103448, 20.51724138, 23.10344828, 25.68965517, 28.27586207,\n",
              "       30.86206897, 33.44827586, 36.03448276, 38.62068966, 41.20689655,\n",
              "       43.79310345, 46.37931034, 48.96551724, 51.55172414, 54.13793103,\n",
              "       56.72413793, 59.31034483, 61.89655172, 64.48275862, 67.06896552,\n",
              "       69.65517241, 72.24137931, 74.82758621, 77.4137931 , 80.        ])"
            ]
          },
          "metadata": {
            "tags": []
          },
          "execution_count": 33
        }
      ]
    }
  ]
}