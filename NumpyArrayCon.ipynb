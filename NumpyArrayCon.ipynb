{
  "nbformat": 4,
  "nbformat_minor": 0,
  "metadata": {
    "colab": {
      "name": "NumpyArrayCon.ipynb",
      "version": "0.3.2",
      "provenance": [],
      "include_colab_link": true
    },
    "kernelspec": {
      "name": "python3",
      "display_name": "Python 3"
    }
  },
  "cells": [
    {
      "cell_type": "markdown",
      "metadata": {
        "id": "view-in-github",
        "colab_type": "text"
      },
      "source": [
        "<a href=\"https://colab.research.google.com/github/selimsurucu/numpy/blob/master/NumpyArrayCon.ipynb\" target=\"_parent\"><img src=\"https://colab.research.google.com/assets/colab-badge.svg\" alt=\"Open In Colab\"/></a>"
      ]
    },
    {
      "metadata": {
        "id": "RMycjBanCNUQ",
        "colab_type": "text"
      },
      "cell_type": "markdown",
      "source": [
        "Numpy kütüphanesini import ediyoruz."
      ]
    },
    {
      "metadata": {
        "id": "r4tY1MD3CH8Z",
        "colab_type": "code",
        "colab": {}
      },
      "cell_type": "code",
      "source": [
        "import numpy as np"
      ],
      "execution_count": 0,
      "outputs": []
    },
    {
      "metadata": {
        "id": "6GUbST6pCdB2",
        "colab_type": "text"
      },
      "cell_type": "markdown",
      "source": [
        "Yeni Liste (List) Tanımlama"
      ]
    },
    {
      "metadata": {
        "id": "LwmqtbXsCfl0",
        "colab_type": "code",
        "colab": {
          "base_uri": "https://localhost:8080/",
          "height": 34
        },
        "outputId": "87d37a32-ee86-4647-9f34-90c3b05cee81"
      },
      "cell_type": "code",
      "source": [
        "myList = [1,2,3,4,5,6]\n",
        "myList"
      ],
      "execution_count": 2,
      "outputs": [
        {
          "output_type": "execute_result",
          "data": {
            "text/plain": [
              "[1, 2, 3, 4, 5, 6]"
            ]
          },
          "metadata": {
            "tags": []
          },
          "execution_count": 2
        }
      ]
    },
    {
      "metadata": {
        "id": "qo4j2fttGpZJ",
        "colab_type": "text"
      },
      "cell_type": "markdown",
      "source": [
        "Dizi Tanımlama : "
      ]
    },
    {
      "metadata": {
        "id": "FwSB3cjqGsTI",
        "colab_type": "code",
        "colab": {
          "base_uri": "https://localhost:8080/",
          "height": 34
        },
        "outputId": "c92b83ee-7b45-4df8-bf48-91cf37a47b05"
      },
      "cell_type": "code",
      "source": [
        "myArray=np.array([5,4,3,2]);\n",
        "myArray #bir array oluştururken aslında fonksiyona parametre olarak bir liste veriliyor."
      ],
      "execution_count": 3,
      "outputs": [
        {
          "output_type": "execute_result",
          "data": {
            "text/plain": [
              "array([5, 4, 3, 2])"
            ]
          },
          "metadata": {
            "tags": []
          },
          "execution_count": 3
        }
      ]
    },
    {
      "metadata": {
        "id": "H1zpX_X4G6zp",
        "colab_type": "text"
      },
      "cell_type": "markdown",
      "source": [
        "Yani; \n",
        "1 Listeyi 1 array'a dönüştürmek istersek: "
      ]
    },
    {
      "metadata": {
        "id": "TDblLRFCHABo",
        "colab_type": "code",
        "colab": {
          "base_uri": "https://localhost:8080/",
          "height": 34
        },
        "outputId": "9723508b-9aa3-4f39-854b-5944bf33f827"
      },
      "cell_type": "code",
      "source": [
        "newArray = np.array(myList)\n",
        "newArray"
      ],
      "execution_count": 4,
      "outputs": [
        {
          "output_type": "execute_result",
          "data": {
            "text/plain": [
              "array([1, 2, 3, 4, 5, 6])"
            ]
          },
          "metadata": {
            "tags": []
          },
          "execution_count": 4
        }
      ]
    },
    {
      "metadata": {
        "id": "eHjoA48HHeFf",
        "colab_type": "text"
      },
      "cell_type": "markdown",
      "source": [
        "Bir arrayi bir listeye dönüştürme"
      ]
    },
    {
      "metadata": {
        "id": "HYezQiUtHdTY",
        "colab_type": "code",
        "colab": {
          "base_uri": "https://localhost:8080/",
          "height": 51
        },
        "outputId": "166b0566-f230-451b-fa7a-584e638af5ed"
      },
      "cell_type": "code",
      "source": [
        "myList = list(newArray)\n",
        "print(myList)\n",
        "print(type(myList))"
      ],
      "execution_count": 6,
      "outputs": [
        {
          "output_type": "stream",
          "text": [
            "[1, 2, 3, 4, 5, 6]\n",
            "<class 'list'>\n"
          ],
          "name": "stdout"
        }
      ]
    },
    {
      "metadata": {
        "id": "LiwiYBaCHsqG",
        "colab_type": "text"
      },
      "cell_type": "markdown",
      "source": [
        "Uygulamalarımızda / çalışmalarımızda Array ve Listeleri birbiri arasında dönüştürmek gerekebilir.\n",
        "Array -> List,\n",
        "List -> Array \n",
        "**Not:** Pandas ( Numpy gibi bir kütüphane ) kullanırken Liste ile çalışmak genelde daha kolay olur.\n"
      ]
    },
    {
      "metadata": {
        "id": "zB5q0kuhIIRk",
        "colab_type": "text"
      },
      "cell_type": "markdown",
      "source": [
        "Bir arrayi kopyalamak"
      ]
    },
    {
      "metadata": {
        "id": "Zb79V3AjJetz",
        "colab_type": "code",
        "colab": {
          "base_uri": "https://localhost:8080/",
          "height": 34
        },
        "outputId": "42588378-b29a-4fd8-f473-d8b9e08664ba"
      },
      "cell_type": "code",
      "source": [
        "newArrayCopy = newArray.copy()\n",
        "newArrayCopy"
      ],
      "execution_count": 7,
      "outputs": [
        {
          "output_type": "execute_result",
          "data": {
            "text/plain": [
              "array([1, 2, 3, 4, 5, 6])"
            ]
          },
          "metadata": {
            "tags": []
          },
          "execution_count": 7
        }
      ]
    },
    {
      "metadata": {
        "id": "gw41BmgyH6qG",
        "colab_type": "text"
      },
      "cell_type": "markdown",
      "source": [
        "copy fonksiyonu kullanmadan ; newArrayCopy1 = newArray kullansaydık ne olurdu ? "
      ]
    },
    {
      "metadata": {
        "id": "IQR2NW-pJwgx",
        "colab_type": "code",
        "colab": {
          "base_uri": "https://localhost:8080/",
          "height": 51
        },
        "outputId": "66f0a4bd-e9f6-421e-e173-5d05011c8004"
      },
      "cell_type": "code",
      "source": [
        "newArrayCopy1 = newArray\n",
        "print(newArrayCopy1)\n",
        "print(newArray)"
      ],
      "execution_count": 8,
      "outputs": [
        {
          "output_type": "stream",
          "text": [
            "[1 2 3 4 5 6]\n",
            "[1 2 3 4 5 6]\n"
          ],
          "name": "stdout"
        }
      ]
    },
    {
      "metadata": {
        "id": "_Yksit_LJmxw",
        "colab_type": "text"
      },
      "cell_type": "markdown",
      "source": [
        "Peki yeni oluşturduğumuz dizi olan newArrayCopy1 de ilk elemanı 0 yapalım"
      ]
    },
    {
      "metadata": {
        "id": "BRIx2c6VJ-LJ",
        "colab_type": "code",
        "colab": {
          "base_uri": "https://localhost:8080/",
          "height": 51
        },
        "outputId": "be96a9bf-9585-4c98-cf27-03d9716e70aa"
      },
      "cell_type": "code",
      "source": [
        "newArrayCopy1[0] = 0\n",
        "print(newArrayCopy1)\n",
        "print(newArray)"
      ],
      "execution_count": 10,
      "outputs": [
        {
          "output_type": "stream",
          "text": [
            "[0 2 3 4 5 6]\n",
            "[0 2 3 4 5 6]\n"
          ],
          "name": "stdout"
        }
      ]
    },
    {
      "metadata": {
        "id": "96pyK5pfKGsc",
        "colab_type": "text"
      },
      "cell_type": "markdown",
      "source": [
        "Ama Sadece newArrayCopy1 arrayinde ilk elemanı değiştirmiştik. Ama newArray'in de ilk elamanı değişmiş oldu. Çünkü newArrayCopy1 = newArray atama işlemi yapıldığında pyhton'da iki değişken için aynı hafıza alanını göstermeye devam etmektedir.\n",
        "Aslında bir bakıma hafızada tasarruf etmeye çalışıyor diye düşünebiliriz.\n"
      ]
    },
    {
      "metadata": {
        "id": "2GreO48xMZNc",
        "colab_type": "text"
      },
      "cell_type": "markdown",
      "source": [
        "Peki Copy Kullandığımızda  ne oluyor ? "
      ]
    },
    {
      "metadata": {
        "id": "WxbJSbdIMXg1",
        "colab_type": "code",
        "colab": {
          "base_uri": "https://localhost:8080/",
          "height": 51
        },
        "outputId": "c17ac588-05d9-459b-98a4-d01c1dbafcfd"
      },
      "cell_type": "code",
      "source": [
        "newArrayCopy = newArray.copy()\n",
        "newArrayCopy[2] = 11\n",
        "print(newArrayCopy)\n",
        "print(newArray)"
      ],
      "execution_count": 12,
      "outputs": [
        {
          "output_type": "stream",
          "text": [
            "[ 0  2 11  4  5  6]\n",
            "[0 2 3 4 5 6]\n"
          ],
          "name": "stdout"
        }
      ]
    },
    {
      "metadata": {
        "id": "4JZG_N_DMlTR",
        "colab_type": "text"
      },
      "cell_type": "markdown",
      "source": [
        "newArray yani orjinal fonksiyonumuz aynı kaldı. Çünkü orjinal alanımız copy diyerek içinde ki verimiz yeni bir hafıza bloguna kopyalanmış ve newArrayCopy fonksiyonumuz da bu yeni, kopyalanmış alanı göstermektedir.\n"
      ]
    },
    {
      "metadata": {
        "id": "2tr3u2brM3CQ",
        "colab_type": "text"
      },
      "cell_type": "markdown",
      "source": [
        "Direkt atamak yerine copy() fonksiyonunu kullanmak ; daha güvenli bir kod yazma şeklidir. Eğer direkt atama yapılırsa istemsizce orjinal datada değişiklik ya da bozulma yapılabilir. Bu genelde istenmeyen bir durumdur. Copy Kullanıyoruz :)"
      ]
    }
  ]
}